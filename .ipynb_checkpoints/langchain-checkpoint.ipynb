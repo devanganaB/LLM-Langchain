{
 "cells": [
  {
   "cell_type": "code",
   "execution_count": 8,
   "id": "4bd7317b-414d-4451-ae4f-d5c858fcee74",
   "metadata": {},
   "outputs": [
    {
     "ename": "ImportError",
     "evalue": "cannot import name 'openapi_key' from 'secret_key' (C:\\Users\\Devangana\\Desktop\\db\\Langchain\\secret_key.py)",
     "output_type": "error",
     "traceback": [
      "\u001b[1;31m---------------------------------------------------------------------------\u001b[0m",
      "\u001b[1;31mImportError\u001b[0m                               Traceback (most recent call last)",
      "Cell \u001b[1;32mIn[8], line 1\u001b[0m\n\u001b[1;32m----> 1\u001b[0m \u001b[38;5;28;01mfrom\u001b[39;00m \u001b[38;5;21;01msecret_key\u001b[39;00m \u001b[38;5;28;01mimport\u001b[39;00m openapi_key\n\u001b[0;32m      2\u001b[0m \u001b[38;5;28;01mimport\u001b[39;00m \u001b[38;5;21;01mos\u001b[39;00m\n\u001b[0;32m      3\u001b[0m os\u001b[38;5;241m.\u001b[39menviron[\u001b[38;5;124m'\u001b[39m\u001b[38;5;124mOPEN_API_KEY\u001b[39m\u001b[38;5;124m'\u001b[39m] \u001b[38;5;241m=\u001b[39m openapi_key\n",
      "\u001b[1;31mImportError\u001b[0m: cannot import name 'openapi_key' from 'secret_key' (C:\\Users\\Devangana\\Desktop\\db\\Langchain\\secret_key.py)"
     ]
    }
   ],
   "source": [
    "from secret import openapi_key\n",
    "import os\n",
    "os.environ['OPEN_API_KEY'] = openapi_key"
   ]
  },
  {
   "cell_type": "code",
   "execution_count": 9,
   "id": "9c8cab0d-cc05-45af-a275-165546dfa470",
   "metadata": {},
   "outputs": [],
   "source": [
    "# from langchain.llms import OpenAI\n",
    "\n",
    "# llm = OpenAI(temperature=0.6)\n",
    "# name = llm(\"I want to write a book on cooking. Suggest a fancy name for this.\")\n",
    "# print(llm)"
   ]
  },
  {
   "cell_type": "code",
   "execution_count": 10,
   "id": "7f448e72-1d61-4a79-89d3-e0b924320090",
   "metadata": {},
   "outputs": [
    {
     "name": "stdout",
     "output_type": "stream",
     "text": [
      "helloo world\n"
     ]
    }
   ],
   "source": [
    "print('helloo world')"
   ]
  },
  {
   "cell_type": "code",
   "execution_count": null,
   "id": "d07ba05a-af79-42e6-97ab-87c778dd23a5",
   "metadata": {},
   "outputs": [],
   "source": []
  }
 ],
 "metadata": {
  "kernelspec": {
   "display_name": "Python 3 (ipykernel)",
   "language": "python",
   "name": "python3"
  },
  "language_info": {
   "codemirror_mode": {
    "name": "ipython",
    "version": 3
   },
   "file_extension": ".py",
   "mimetype": "text/x-python",
   "name": "python",
   "nbconvert_exporter": "python",
   "pygments_lexer": "ipython3",
   "version": "3.12.0"
  }
 },
 "nbformat": 4,
 "nbformat_minor": 5
}
